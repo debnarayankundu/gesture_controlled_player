{
 "cells": [
  {
   "cell_type": "code",
   "execution_count": 1,
   "id": "2ce63395-13fb-4c0e-a1d8-d3efc11d69b3",
   "metadata": {},
   "outputs": [],
   "source": [
    "import cv2\n",
    "import mediapipe as mp\n",
    "import pyautogui\n",
    "import time"
   ]
  },
  {
   "cell_type": "code",
   "execution_count": 2,
   "id": "c5462a65-8fb2-4fd2-ab43-744643755bdd",
   "metadata": {},
   "outputs": [],
   "source": [
    "mpHands=mp.solutions.hands\n",
    "hands=mpHands.Hands(max_num_hands=1)"
   ]
  },
  {
   "cell_type": "code",
   "execution_count": 3,
   "id": "eaf6bc52-89f3-4c10-bb26-29d8d140bd51",
   "metadata": {},
   "outputs": [],
   "source": [
    "def count_fingers(lst):\n",
    "    cnt=0\n",
    "    thresh=(lst.landmark[0].y*100-lst.landmark[9].y*100)/2\n",
    "    if(lst.landmark[5].y*100-lst.landmark[8].y*100) > thresh:\n",
    "        cnt+=1\n",
    "    if(lst.landmark[9].y*100-lst.landmark[12].y*100) > thresh:\n",
    "        cnt+=1\n",
    "    if(lst.landmark[13].y*100-lst.landmark[16].y*100) > thresh:\n",
    "        cnt+=1\n",
    "    if(lst.landmark[17].y*100-lst.landmark[20].y*100) > thresh:\n",
    "        cnt+=1\n",
    "    if(lst.landmark[4].x*100-lst.landmark[5].x*100) > 3:\n",
    "        cnt+=1\n",
    "    return cnt\n",
    "\n"
   ]
  },
  {
   "cell_type": "code",
   "execution_count": 7,
   "id": "d95c538a-0974-456b-85ee-793f65459065",
   "metadata": {},
   "outputs": [],
   "source": [
    "def main():\n",
    "    cap = cv2.VideoCapture(0)\n",
    "    draw=mp.solutions.drawing_utils\n",
    "    prev=-1\n",
    "    start_init=False\n",
    "    \n",
    "    try:\n",
    "        while cap.isOpened():\n",
    "            end_time=time.time()\n",
    "            ret,frame=cap.read()\n",
    "            \n",
    "            if not ret:\n",
    "                break\n",
    "            frame=cv2.flip(frame,1)\n",
    "            frameRGB=cv2.cvtColor(frame,cv2.COLOR_BGR2RGB)\n",
    "            processed=hands.process(frameRGB)\n",
    "\n",
    "            landmark_list=[]\n",
    "            \n",
    "\n",
    "            if processed.multi_hand_landmarks:\n",
    "                hand_landmarks=processed.multi_hand_landmarks[0]\n",
    "                cnt=count_fingers(hand_landmarks)\n",
    "                if not(prev==cnt):\n",
    "                    if not(start_init):\n",
    "                        start_time=time.time()\n",
    "                        start_init=True\n",
    "                    \n",
    "                    elif (end_time-start_time)>0.3:\n",
    "                        if(cnt==1):\n",
    "                            pyautogui.press(\"right\")\n",
    "                            \n",
    "                        elif(cnt==2):\n",
    "                            pyautogui.press(\"left\")\n",
    "                            \n",
    "                        elif(cnt==3):\n",
    "                            pyautogui.press(\"up\")\n",
    "                            \n",
    "                        elif(cnt==4):\n",
    "                            pyautogui.press(\"down\")\n",
    "                            \n",
    "                        elif(cnt==5):\n",
    "                            pyautogui.press(\"space\")\n",
    "                            \n",
    "                        prev=cnt\n",
    "                        start_init=False\n",
    "                        \n",
    "                draw.draw_landmarks(frame,hand_landmarks,mpHands.HAND_CONNECTIONS)\n",
    "                \n",
    "                for lm in hand_landmarks.landmark:\n",
    "                    landmark_list.append((lm.x,lm.y))\n",
    "\n",
    "\n",
    "            \n",
    "            cv2.imshow('Frame',frame)\n",
    "            if cv2.waitKey(1) & 0xFF == ord('q'):\n",
    "                break\n",
    "    \n",
    "                \n",
    "                \n",
    "    finally:\n",
    "        cap.release()\n",
    "        cv2.destroyAllWindows()\n",
    "        \n",
    "if __name__=='main':\n",
    "    main()"
   ]
  },
  {
   "cell_type": "code",
   "execution_count": 9,
   "id": "00223868",
   "metadata": {},
   "outputs": [],
   "source": [
    "main()"
   ]
  },
  {
   "cell_type": "code",
   "execution_count": null,
   "id": "8a1f8b2e-5bed-414d-bf2b-b0a0107e150d",
   "metadata": {},
   "outputs": [],
   "source": []
  }
 ],
 "metadata": {
  "kernelspec": {
   "display_name": "Python [conda env:base] *",
   "language": "python",
   "name": "conda-base-py"
  },
  "language_info": {
   "codemirror_mode": {
    "name": "ipython",
    "version": 3
   },
   "file_extension": ".py",
   "mimetype": "text/x-python",
   "name": "python",
   "nbconvert_exporter": "python",
   "pygments_lexer": "ipython3",
   "version": "3.12.7"
  }
 },
 "nbformat": 4,
 "nbformat_minor": 5
}
